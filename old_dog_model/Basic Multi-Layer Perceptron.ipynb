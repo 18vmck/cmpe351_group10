{
 "cells": [
  {
   "cell_type": "markdown",
   "metadata": {},
   "source": [
    "Basic Multi-Layer Perceptron"
   ]
  },
  {
   "cell_type": "code",
   "execution_count": 1,
   "metadata": {},
   "outputs": [],
   "source": [
    "# Kick off by importing libraries, and outlining the Iris dataset\n",
    "import pandas as pd\n",
    "import sklearn\n",
    "from sklearn import preprocessing\n",
    "from sklearn.model_selection import train_test_split \n",
    "from sklearn.preprocessing import StandardScaler  \n",
    "from sklearn.neural_network import MLPClassifier \n",
    "from sklearn.metrics import classification_report, confusion_matrix \n",
    "\n",
    "url = \"https://archive.ics.uci.edu/ml/machine-learning-databases/iris/iris.data\""
   ]
  },
  {
   "cell_type": "code",
   "execution_count": 2,
   "metadata": {},
   "outputs": [],
   "source": [
    "# Let's start by naming the features\n",
    "names = ['text', 'subreddit', 'bucket', 'annotator', 'annotation', 'confidence']"
   ]
  },
  {
   "cell_type": "code",
   "execution_count": 3,
   "metadata": {},
   "outputs": [
    {
     "data": {
      "text/html": [
       "<div>\n",
       "<style scoped>\n",
       "    .dataframe tbody tr th:only-of-type {\n",
       "        vertical-align: middle;\n",
       "    }\n",
       "\n",
       "    .dataframe tbody tr th {\n",
       "        vertical-align: top;\n",
       "    }\n",
       "\n",
       "    .dataframe thead th {\n",
       "        text-align: right;\n",
       "    }\n",
       "</style>\n",
       "<table border=\"1\" class=\"dataframe\">\n",
       "  <thead>\n",
       "    <tr style=\"text-align: right;\">\n",
       "      <th></th>\n",
       "      <th>text</th>\n",
       "      <th>subreddit</th>\n",
       "      <th>bucket</th>\n",
       "      <th>annotator</th>\n",
       "      <th>annotation</th>\n",
       "      <th>confidence</th>\n",
       "    </tr>\n",
       "  </thead>\n",
       "  <tbody>\n",
       "    <tr>\n",
       "      <th>0</th>\n",
       "      <td>That particular part of the debate is especial...</td>\n",
       "      <td>europe</td>\n",
       "      <td>French politics</td>\n",
       "      <td>annotator03</td>\n",
       "      <td>Non-Moral</td>\n",
       "      <td>Confident</td>\n",
       "    </tr>\n",
       "    <tr>\n",
       "      <th>1</th>\n",
       "      <td>That particular part of the debate is especial...</td>\n",
       "      <td>europe</td>\n",
       "      <td>French politics</td>\n",
       "      <td>annotator01</td>\n",
       "      <td>Purity</td>\n",
       "      <td>Confident</td>\n",
       "    </tr>\n",
       "    <tr>\n",
       "      <th>2</th>\n",
       "      <td>That particular part of the debate is especial...</td>\n",
       "      <td>europe</td>\n",
       "      <td>French politics</td>\n",
       "      <td>annotator02</td>\n",
       "      <td>Thin Morality</td>\n",
       "      <td>Confident</td>\n",
       "    </tr>\n",
       "    <tr>\n",
       "      <th>3</th>\n",
       "      <td>/r/france is pretty lively, with it's own ling...</td>\n",
       "      <td>europe</td>\n",
       "      <td>French politics</td>\n",
       "      <td>annotator03</td>\n",
       "      <td>Non-Moral</td>\n",
       "      <td>Confident</td>\n",
       "    </tr>\n",
       "    <tr>\n",
       "      <th>4</th>\n",
       "      <td>/r/france is pretty lively, with it's own ling...</td>\n",
       "      <td>europe</td>\n",
       "      <td>French politics</td>\n",
       "      <td>annotator00</td>\n",
       "      <td>Non-Moral</td>\n",
       "      <td>Somewhat Confident</td>\n",
       "    </tr>\n",
       "    <tr>\n",
       "      <th>...</th>\n",
       "      <td>...</td>\n",
       "      <td>...</td>\n",
       "      <td>...</td>\n",
       "      <td>...</td>\n",
       "      <td>...</td>\n",
       "      <td>...</td>\n",
       "    </tr>\n",
       "    <tr>\n",
       "      <th>61221</th>\n",
       "      <td>Well I can discern from your vehemence toward ...</td>\n",
       "      <td>AmItheAsshole</td>\n",
       "      <td>Everyday Morality</td>\n",
       "      <td>annotator05</td>\n",
       "      <td>Equality</td>\n",
       "      <td>Confident</td>\n",
       "    </tr>\n",
       "    <tr>\n",
       "      <th>61222</th>\n",
       "      <td>Kick! Punch! It's all in the mind. If you wann...</td>\n",
       "      <td>nostalgia</td>\n",
       "      <td>Everyday Morality</td>\n",
       "      <td>annotator05</td>\n",
       "      <td>Thin Morality</td>\n",
       "      <td>Somewhat Confident</td>\n",
       "    </tr>\n",
       "    <tr>\n",
       "      <th>61223</th>\n",
       "      <td>Reddit can’t help you this is some seriously t...</td>\n",
       "      <td>confession</td>\n",
       "      <td>Everyday Morality</td>\n",
       "      <td>annotator05</td>\n",
       "      <td>Thin Morality</td>\n",
       "      <td>Confident</td>\n",
       "    </tr>\n",
       "    <tr>\n",
       "      <th>61224</th>\n",
       "      <td>Yes. Disordered eating is insidious. And Rita ...</td>\n",
       "      <td>AmItheAsshole</td>\n",
       "      <td>Everyday Morality</td>\n",
       "      <td>annotator05</td>\n",
       "      <td>Non-Moral</td>\n",
       "      <td>Somewhat Confident</td>\n",
       "    </tr>\n",
       "    <tr>\n",
       "      <th>61225</th>\n",
       "      <td>What parent would let a kid bring a Gameboy to...</td>\n",
       "      <td>nostalgia</td>\n",
       "      <td>Everyday Morality</td>\n",
       "      <td>annotator05</td>\n",
       "      <td>Authority</td>\n",
       "      <td>Somewhat Confident</td>\n",
       "    </tr>\n",
       "  </tbody>\n",
       "</table>\n",
       "<p>61226 rows × 6 columns</p>\n",
       "</div>"
      ],
      "text/plain": [
       "                                                    text      subreddit  \\\n",
       "0      That particular part of the debate is especial...         europe   \n",
       "1      That particular part of the debate is especial...         europe   \n",
       "2      That particular part of the debate is especial...         europe   \n",
       "3      /r/france is pretty lively, with it's own ling...         europe   \n",
       "4      /r/france is pretty lively, with it's own ling...         europe   \n",
       "...                                                  ...            ...   \n",
       "61221  Well I can discern from your vehemence toward ...  AmItheAsshole   \n",
       "61222  Kick! Punch! It's all in the mind. If you wann...      nostalgia   \n",
       "61223  Reddit can’t help you this is some seriously t...     confession   \n",
       "61224  Yes. Disordered eating is insidious. And Rita ...  AmItheAsshole   \n",
       "61225  What parent would let a kid bring a Gameboy to...      nostalgia   \n",
       "\n",
       "                  bucket    annotator     annotation          confidence  \n",
       "0        French politics  annotator03      Non-Moral           Confident  \n",
       "1        French politics  annotator01         Purity           Confident  \n",
       "2        French politics  annotator02  Thin Morality           Confident  \n",
       "3        French politics  annotator03      Non-Moral           Confident  \n",
       "4        French politics  annotator00      Non-Moral  Somewhat Confident  \n",
       "...                  ...          ...            ...                 ...  \n",
       "61221  Everyday Morality  annotator05       Equality           Confident  \n",
       "61222  Everyday Morality  annotator05  Thin Morality  Somewhat Confident  \n",
       "61223  Everyday Morality  annotator05  Thin Morality           Confident  \n",
       "61224  Everyday Morality  annotator05      Non-Moral  Somewhat Confident  \n",
       "61225  Everyday Morality  annotator05      Authority  Somewhat Confident  \n",
       "\n",
       "[61226 rows x 6 columns]"
      ]
     },
     "execution_count": 3,
     "metadata": {},
     "output_type": "execute_result"
    }
   ],
   "source": [
    "# Reading the dataset through a Pandas function\n",
    "df = pd.read_csv('final_mfrc_data.csv')  \n",
    "df"
   ]
  },
  {
   "cell_type": "markdown",
   "metadata": {},
   "source": [
    "The Iris ataset has five columns. \n",
    "The task is to predict the class (which are the values in the fifth column) that the iris plant belongs to."
   ]
  },
  {
   "cell_type": "code",
   "execution_count": 18,
   "metadata": {},
   "outputs": [],
   "source": [
    "# Takes first 4 columns and assign them to variable \"X\"\n",
    "X = df.iloc[:, 1:6]\n",
    "# Takes first 5th columns and assign them to variable \"Y\". Object dtype refers to strings.\n",
    "y = df.select_dtypes(include=[object])  \n",
    "X = X.drop(columns=['annotator'])"
   ]
  },
  {
   "cell_type": "code",
   "execution_count": 19,
   "metadata": {},
   "outputs": [
    {
     "data": {
      "text/html": [
       "<div>\n",
       "<style scoped>\n",
       "    .dataframe tbody tr th:only-of-type {\n",
       "        vertical-align: middle;\n",
       "    }\n",
       "\n",
       "    .dataframe tbody tr th {\n",
       "        vertical-align: top;\n",
       "    }\n",
       "\n",
       "    .dataframe thead th {\n",
       "        text-align: right;\n",
       "    }\n",
       "</style>\n",
       "<table border=\"1\" class=\"dataframe\">\n",
       "  <thead>\n",
       "    <tr style=\"text-align: right;\">\n",
       "      <th></th>\n",
       "      <th>subreddit</th>\n",
       "      <th>bucket</th>\n",
       "      <th>annotation</th>\n",
       "      <th>confidence</th>\n",
       "    </tr>\n",
       "  </thead>\n",
       "  <tbody>\n",
       "    <tr>\n",
       "      <th>0</th>\n",
       "      <td>europe</td>\n",
       "      <td>French politics</td>\n",
       "      <td>Non-Moral</td>\n",
       "      <td>Confident</td>\n",
       "    </tr>\n",
       "    <tr>\n",
       "      <th>1</th>\n",
       "      <td>europe</td>\n",
       "      <td>French politics</td>\n",
       "      <td>Purity</td>\n",
       "      <td>Confident</td>\n",
       "    </tr>\n",
       "    <tr>\n",
       "      <th>2</th>\n",
       "      <td>europe</td>\n",
       "      <td>French politics</td>\n",
       "      <td>Thin Morality</td>\n",
       "      <td>Confident</td>\n",
       "    </tr>\n",
       "    <tr>\n",
       "      <th>3</th>\n",
       "      <td>europe</td>\n",
       "      <td>French politics</td>\n",
       "      <td>Non-Moral</td>\n",
       "      <td>Confident</td>\n",
       "    </tr>\n",
       "    <tr>\n",
       "      <th>4</th>\n",
       "      <td>europe</td>\n",
       "      <td>French politics</td>\n",
       "      <td>Non-Moral</td>\n",
       "      <td>Somewhat Confident</td>\n",
       "    </tr>\n",
       "  </tbody>\n",
       "</table>\n",
       "</div>"
      ],
      "text/plain": [
       "  subreddit           bucket     annotation          confidence\n",
       "0    europe  French politics      Non-Moral           Confident\n",
       "1    europe  French politics         Purity           Confident\n",
       "2    europe  French politics  Thin Morality           Confident\n",
       "3    europe  French politics      Non-Moral           Confident\n",
       "4    europe  French politics      Non-Moral  Somewhat Confident"
      ]
     },
     "execution_count": 19,
     "metadata": {},
     "output_type": "execute_result"
    }
   ],
   "source": [
    "X.head()"
   ]
  },
  {
   "cell_type": "code",
   "execution_count": 20,
   "metadata": {},
   "outputs": [
    {
     "data": {
      "text/html": [
       "<div>\n",
       "<style scoped>\n",
       "    .dataframe tbody tr th:only-of-type {\n",
       "        vertical-align: middle;\n",
       "    }\n",
       "\n",
       "    .dataframe tbody tr th {\n",
       "        vertical-align: top;\n",
       "    }\n",
       "\n",
       "    .dataframe thead th {\n",
       "        text-align: right;\n",
       "    }\n",
       "</style>\n",
       "<table border=\"1\" class=\"dataframe\">\n",
       "  <thead>\n",
       "    <tr style=\"text-align: right;\">\n",
       "      <th></th>\n",
       "      <th>annotator</th>\n",
       "    </tr>\n",
       "  </thead>\n",
       "  <tbody>\n",
       "    <tr>\n",
       "      <th>0</th>\n",
       "      <td>annotator03</td>\n",
       "    </tr>\n",
       "    <tr>\n",
       "      <th>1</th>\n",
       "      <td>annotator01</td>\n",
       "    </tr>\n",
       "    <tr>\n",
       "      <th>2</th>\n",
       "      <td>annotator02</td>\n",
       "    </tr>\n",
       "    <tr>\n",
       "      <th>3</th>\n",
       "      <td>annotator03</td>\n",
       "    </tr>\n",
       "    <tr>\n",
       "      <th>4</th>\n",
       "      <td>annotator00</td>\n",
       "    </tr>\n",
       "  </tbody>\n",
       "</table>\n",
       "</div>"
      ],
      "text/plain": [
       "     annotator\n",
       "0  annotator03\n",
       "1  annotator01\n",
       "2  annotator02\n",
       "3  annotator03\n",
       "4  annotator00"
      ]
     },
     "execution_count": 20,
     "metadata": {},
     "output_type": "execute_result"
    }
   ],
   "source": [
    "y = y.drop(columns=['text','subreddit','bucket','annotation','confidence'])\n",
    "y.head()"
   ]
  },
  {
   "cell_type": "code",
   "execution_count": 21,
   "metadata": {},
   "outputs": [
    {
     "data": {
      "text/plain": [
       "array(['annotator03', 'annotator01', 'annotator02', 'annotator00',\n",
       "       'annotator04', 'annotator05'], dtype=object)"
      ]
     },
     "execution_count": 21,
     "metadata": {},
     "output_type": "execute_result"
    }
   ],
   "source": [
    "# y actually contains all categories or classes:\n",
    "y.annotator.unique()"
   ]
  },
  {
   "cell_type": "code",
   "execution_count": 22,
   "metadata": {},
   "outputs": [],
   "source": [
    "# Now transforming categorial into numerical values\n",
    "le = preprocessing.LabelEncoder()\n",
    "y = y.apply(le.fit_transform)"
   ]
  },
  {
   "cell_type": "code",
   "execution_count": 23,
   "metadata": {},
   "outputs": [
    {
     "data": {
      "text/html": [
       "<div>\n",
       "<style scoped>\n",
       "    .dataframe tbody tr th:only-of-type {\n",
       "        vertical-align: middle;\n",
       "    }\n",
       "\n",
       "    .dataframe tbody tr th {\n",
       "        vertical-align: top;\n",
       "    }\n",
       "\n",
       "    .dataframe thead th {\n",
       "        text-align: right;\n",
       "    }\n",
       "</style>\n",
       "<table border=\"1\" class=\"dataframe\">\n",
       "  <thead>\n",
       "    <tr style=\"text-align: right;\">\n",
       "      <th></th>\n",
       "      <th>annotator</th>\n",
       "    </tr>\n",
       "  </thead>\n",
       "  <tbody>\n",
       "    <tr>\n",
       "      <th>0</th>\n",
       "      <td>3</td>\n",
       "    </tr>\n",
       "    <tr>\n",
       "      <th>1</th>\n",
       "      <td>1</td>\n",
       "    </tr>\n",
       "    <tr>\n",
       "      <th>2</th>\n",
       "      <td>2</td>\n",
       "    </tr>\n",
       "    <tr>\n",
       "      <th>3</th>\n",
       "      <td>3</td>\n",
       "    </tr>\n",
       "    <tr>\n",
       "      <th>4</th>\n",
       "      <td>0</td>\n",
       "    </tr>\n",
       "  </tbody>\n",
       "</table>\n",
       "</div>"
      ],
      "text/plain": [
       "   annotator\n",
       "0          3\n",
       "1          1\n",
       "2          2\n",
       "3          3\n",
       "4          0"
      ]
     },
     "execution_count": 23,
     "metadata": {},
     "output_type": "execute_result"
    }
   ],
   "source": [
    "y.head()"
   ]
  },
  {
   "cell_type": "code",
   "execution_count": 24,
   "metadata": {},
   "outputs": [
    {
     "data": {
      "text/html": [
       "<div>\n",
       "<style scoped>\n",
       "    .dataframe tbody tr th:only-of-type {\n",
       "        vertical-align: middle;\n",
       "    }\n",
       "\n",
       "    .dataframe tbody tr th {\n",
       "        vertical-align: top;\n",
       "    }\n",
       "\n",
       "    .dataframe thead th {\n",
       "        text-align: right;\n",
       "    }\n",
       "</style>\n",
       "<table border=\"1\" class=\"dataframe\">\n",
       "  <thead>\n",
       "    <tr style=\"text-align: right;\">\n",
       "      <th></th>\n",
       "      <th>subreddit</th>\n",
       "      <th>bucket</th>\n",
       "      <th>annotation</th>\n",
       "      <th>confidence</th>\n",
       "    </tr>\n",
       "  </thead>\n",
       "  <tbody>\n",
       "    <tr>\n",
       "      <th>0</th>\n",
       "      <td>4</td>\n",
       "      <td>1</td>\n",
       "      <td>75</td>\n",
       "      <td>0</td>\n",
       "    </tr>\n",
       "    <tr>\n",
       "      <th>1</th>\n",
       "      <td>4</td>\n",
       "      <td>1</td>\n",
       "      <td>101</td>\n",
       "      <td>0</td>\n",
       "    </tr>\n",
       "    <tr>\n",
       "      <th>2</th>\n",
       "      <td>4</td>\n",
       "      <td>1</td>\n",
       "      <td>125</td>\n",
       "      <td>0</td>\n",
       "    </tr>\n",
       "    <tr>\n",
       "      <th>3</th>\n",
       "      <td>4</td>\n",
       "      <td>1</td>\n",
       "      <td>75</td>\n",
       "      <td>0</td>\n",
       "    </tr>\n",
       "    <tr>\n",
       "      <th>4</th>\n",
       "      <td>4</td>\n",
       "      <td>1</td>\n",
       "      <td>75</td>\n",
       "      <td>2</td>\n",
       "    </tr>\n",
       "  </tbody>\n",
       "</table>\n",
       "</div>"
      ],
      "text/plain": [
       "   subreddit  bucket  annotation  confidence\n",
       "0          4       1          75           0\n",
       "1          4       1         101           0\n",
       "2          4       1         125           0\n",
       "3          4       1          75           0\n",
       "4          4       1          75           2"
      ]
     },
     "execution_count": 24,
     "metadata": {},
     "output_type": "execute_result"
    }
   ],
   "source": [
    "X = X.apply(le.fit_transform)\n",
    "X.head()"
   ]
  },
  {
   "cell_type": "code",
   "execution_count": 25,
   "metadata": {},
   "outputs": [],
   "source": [
    "# Now for train and test split (80% of  dataset into  training set and  other 20% into test data)\n",
    "X_train, X_test, y_train, y_test = train_test_split(X, y, test_size = 0.20)  "
   ]
  },
  {
   "cell_type": "code",
   "execution_count": 26,
   "metadata": {},
   "outputs": [],
   "source": [
    "# Feature scaling\n",
    "scaler = StandardScaler()  \n",
    "scaler.fit(X_train)\n",
    "X_train = scaler.transform(X_train)  \n",
    "X_test = scaler.transform(X_test)  "
   ]
  },
  {
   "cell_type": "code",
   "execution_count": 27,
   "metadata": {},
   "outputs": [
    {
     "data": {
      "text/plain": [
       "MLPClassifier(hidden_layer_sizes=(50, 50, 50), max_iter=10000)"
      ]
     },
     "execution_count": 27,
     "metadata": {},
     "output_type": "execute_result"
    }
   ],
   "source": [
    "# Finally for the MLP- Multilayer Perceptron\n",
    "mlp = MLPClassifier(hidden_layer_sizes=(50, 50, 50), max_iter=10000)  \n",
    "mlp.fit(X_train, y_train.values.ravel())  "
   ]
  },
  {
   "cell_type": "code",
   "execution_count": 28,
   "metadata": {},
   "outputs": [],
   "source": [
    "predictions = mlp.predict(X_test) "
   ]
  },
  {
   "cell_type": "code",
   "execution_count": 29,
   "metadata": {},
   "outputs": [
    {
     "name": "stdout",
     "output_type": "stream",
     "text": [
      "[4 4 1 ... 0 3 2]\n"
     ]
    }
   ],
   "source": [
    "print(predictions)"
   ]
  },
  {
   "cell_type": "code",
   "execution_count": 30,
   "metadata": {},
   "outputs": [
    {
     "name": "stdout",
     "output_type": "stream",
     "text": [
      "[[1746    6  267  207   23   38]\n",
      " [ 303  770  881  235  249   33]\n",
      " [  95  211 1520  303  272   15]\n",
      " [ 193  191 1336  516  133   23]\n",
      " [  73  221   27   39 2044   10]\n",
      " [  60   32   12   27   86   49]]\n",
      "              precision    recall  f1-score   support\n",
      "\n",
      "           0       0.71      0.76      0.73      2287\n",
      "           1       0.54      0.31      0.39      2471\n",
      "           2       0.38      0.63      0.47      2416\n",
      "           3       0.39      0.22      0.28      2392\n",
      "           4       0.73      0.85      0.78      2414\n",
      "           5       0.29      0.18      0.23       266\n",
      "\n",
      "    accuracy                           0.54     12246\n",
      "   macro avg       0.50      0.49      0.48     12246\n",
      "weighted avg       0.54      0.54      0.52     12246\n",
      "\n"
     ]
    }
   ],
   "source": [
    "# Last thing: evaluation of algorithm performance in classifying flowers\n",
    "matrix = confusion_matrix(y_test,predictions)\n",
    "print(matrix)  \n",
    "print(classification_report(y_test,predictions))  "
   ]
  },
  {
   "cell_type": "code",
   "execution_count": 31,
   "metadata": {},
   "outputs": [
    {
     "data": {
      "text/plain": [
       "<sklearn.metrics._plot.confusion_matrix.ConfusionMatrixDisplay at 0x198eb631048>"
      ]
     },
     "execution_count": 31,
     "metadata": {},
     "output_type": "execute_result"
    },
    {
     "data": {
      "image/png": "[encoded data removed]",
      "text/plain": [
       "<Figure size 640x480 with 2 Axes>"
      ]
     },
     "metadata": {},
     "output_type": "display_data"
    }
   ],
   "source": [
    "sklearn.metrics.ConfusionMatrixDisplay(matrix).plot()"
   ]
  },
  {
   "cell_type": "code",
   "execution_count": null,
   "metadata": {},
   "outputs": [],
   "source": []
  }
 ],
 "metadata": {
  "kernelspec": {
   "display_name": "Python 3 (ipykernel)",
   "language": "python",
   "name": "python3"
  },
  "language_info": {
   "codemirror_mode": {
    "name": "ipython",
    "version": 3
   },
   "file_extension": ".py",
   "mimetype": "text/x-python",
   "name": "python",
   "nbconvert_exporter": "python",
   "pygments_lexer": "ipython3",
   "version": "3.7.6"
  }
 },
 "nbformat": 4,
 "nbformat_minor": 2
}
