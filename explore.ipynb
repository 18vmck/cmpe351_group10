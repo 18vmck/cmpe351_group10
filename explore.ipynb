{
 "cells": [
  {
   "cell_type": "code",
   "execution_count": 1,
   "metadata": {},
   "outputs": [],
   "source": [
    "import pandas as pd\n",
    "import seaborn as sns\n",
    "import numpy as np\n",
    "import seaborn as sns\n",
    "\n",
    "from IPython.core.interactiveshell import InteractiveShell\n",
    "InteractiveShell.ast_node_interactivity = \"all\""
   ]
  },
  {
   "cell_type": "code",
   "execution_count": 2,
   "metadata": {},
   "outputs": [
    {
     "name": "stdout",
     "output_type": "stream",
     "text": [
      "<class 'pandas.core.frame.DataFrame'>\n",
      "RangeIndex: 61226 entries, 0 to 61225\n",
      "Data columns (total 6 columns):\n",
      " #   Column      Non-Null Count  Dtype \n",
      "---  ------      --------------  ----- \n",
      " 0   text        61226 non-null  object\n",
      " 1   subreddit   61226 non-null  object\n",
      " 2   bucket      61226 non-null  object\n",
      " 3   annotator   61226 non-null  object\n",
      " 4   annotation  61226 non-null  object\n",
      " 5   confidence  61184 non-null  object\n",
      "dtypes: object(6)\n",
      "memory usage: 2.8+ MB\n"
     ]
    }
   ],
   "source": [
    "all_data = pd.read_csv('final_mfrc_data.csv', low_memory=False)\n",
    "all_data.info()"
   ]
  },
  {
   "cell_type": "code",
   "execution_count": 3,
   "metadata": {},
   "outputs": [
    {
     "name": "stdout",
     "output_type": "stream",
     "text": [
      "<class 'pandas.core.frame.DataFrame'>\n",
      "RangeIndex: 61226 entries, 0 to 61225\n",
      "Data columns (total 6 columns):\n",
      " #   Column      Non-Null Count  Dtype \n",
      "---  ------      --------------  ----- \n",
      " 0   text        61226 non-null  object\n",
      " 1   subreddit   61226 non-null  object\n",
      " 2   bucket      61226 non-null  object\n",
      " 3   annotator   61226 non-null  object\n",
      " 4   annotation  61226 non-null  object\n",
      " 5   confidence  61184 non-null  object\n",
      "dtypes: object(6)\n",
      "memory usage: 2.8+ MB\n"
     ]
    }
   ],
   "source": [
    "dataset = all_data[['text', 'subreddit', 'bucket', 'annotator', 'annotation', 'confidence']] \n",
    "\n",
    "dataset.info()"
   ]
  },
  {
   "cell_type": "code",
   "execution_count": 4,
   "metadata": {},
   "outputs": [
    {
     "data": {
      "text/html": [
       "<div>\n",
       "<style scoped>\n",
       "    .dataframe tbody tr th:only-of-type {\n",
       "        vertical-align: middle;\n",
       "    }\n",
       "\n",
       "    .dataframe tbody tr th {\n",
       "        vertical-align: top;\n",
       "    }\n",
       "\n",
       "    .dataframe thead th {\n",
       "        text-align: right;\n",
       "    }\n",
       "</style>\n",
       "<table border=\"1\" class=\"dataframe\">\n",
       "  <thead>\n",
       "    <tr style=\"text-align: right;\">\n",
       "      <th></th>\n",
       "      <th>text</th>\n",
       "      <th>subreddit</th>\n",
       "      <th>bucket</th>\n",
       "      <th>annotator</th>\n",
       "      <th>annotation</th>\n",
       "      <th>confidence</th>\n",
       "    </tr>\n",
       "  </thead>\n",
       "  <tbody>\n",
       "    <tr>\n",
       "      <th>0</th>\n",
       "      <td>That particular part of the debate is especial...</td>\n",
       "      <td>europe</td>\n",
       "      <td>French politics</td>\n",
       "      <td>annotator03</td>\n",
       "      <td>Non-Moral</td>\n",
       "      <td>Confident</td>\n",
       "    </tr>\n",
       "    <tr>\n",
       "      <th>1</th>\n",
       "      <td>That particular part of the debate is especial...</td>\n",
       "      <td>europe</td>\n",
       "      <td>French politics</td>\n",
       "      <td>annotator01</td>\n",
       "      <td>Purity</td>\n",
       "      <td>Confident</td>\n",
       "    </tr>\n",
       "    <tr>\n",
       "      <th>2</th>\n",
       "      <td>That particular part of the debate is especial...</td>\n",
       "      <td>europe</td>\n",
       "      <td>French politics</td>\n",
       "      <td>annotator02</td>\n",
       "      <td>Thin Morality</td>\n",
       "      <td>Confident</td>\n",
       "    </tr>\n",
       "    <tr>\n",
       "      <th>3</th>\n",
       "      <td>/r/france is pretty lively, with it's own ling...</td>\n",
       "      <td>europe</td>\n",
       "      <td>French politics</td>\n",
       "      <td>annotator03</td>\n",
       "      <td>Non-Moral</td>\n",
       "      <td>Confident</td>\n",
       "    </tr>\n",
       "    <tr>\n",
       "      <th>4</th>\n",
       "      <td>/r/france is pretty lively, with it's own ling...</td>\n",
       "      <td>europe</td>\n",
       "      <td>French politics</td>\n",
       "      <td>annotator00</td>\n",
       "      <td>Non-Moral</td>\n",
       "      <td>Somewhat Confident</td>\n",
       "    </tr>\n",
       "    <tr>\n",
       "      <th>5</th>\n",
       "      <td>/r/france is pretty lively, with it's own ling...</td>\n",
       "      <td>europe</td>\n",
       "      <td>French politics</td>\n",
       "      <td>annotator02</td>\n",
       "      <td>Non-Moral</td>\n",
       "      <td>Confident</td>\n",
       "    </tr>\n",
       "    <tr>\n",
       "      <th>6</th>\n",
       "      <td>TBH Marion Le Pen would be better. Closet fasc...</td>\n",
       "      <td>neoliberal</td>\n",
       "      <td>French politics</td>\n",
       "      <td>annotator03</td>\n",
       "      <td>Non-Moral</td>\n",
       "      <td>Somewhat Confident</td>\n",
       "    </tr>\n",
       "    <tr>\n",
       "      <th>7</th>\n",
       "      <td>TBH Marion Le Pen would be better. Closet fasc...</td>\n",
       "      <td>neoliberal</td>\n",
       "      <td>French politics</td>\n",
       "      <td>annotator00</td>\n",
       "      <td>Thin Morality</td>\n",
       "      <td>Not Confident</td>\n",
       "    </tr>\n",
       "    <tr>\n",
       "      <th>8</th>\n",
       "      <td>TBH Marion Le Pen would be better. Closet fasc...</td>\n",
       "      <td>neoliberal</td>\n",
       "      <td>French politics</td>\n",
       "      <td>annotator02</td>\n",
       "      <td>Equality</td>\n",
       "      <td>Somewhat Confident</td>\n",
       "    </tr>\n",
       "    <tr>\n",
       "      <th>9</th>\n",
       "      <td>it really is a very unusual situation isn't it...</td>\n",
       "      <td>europe</td>\n",
       "      <td>French politics</td>\n",
       "      <td>annotator03</td>\n",
       "      <td>Non-Moral</td>\n",
       "      <td>Confident</td>\n",
       "    </tr>\n",
       "  </tbody>\n",
       "</table>\n",
       "</div>"
      ],
      "text/plain": [
       "                                                text   subreddit  \\\n",
       "0  That particular part of the debate is especial...      europe   \n",
       "1  That particular part of the debate is especial...      europe   \n",
       "2  That particular part of the debate is especial...      europe   \n",
       "3  /r/france is pretty lively, with it's own ling...      europe   \n",
       "4  /r/france is pretty lively, with it's own ling...      europe   \n",
       "5  /r/france is pretty lively, with it's own ling...      europe   \n",
       "6  TBH Marion Le Pen would be better. Closet fasc...  neoliberal   \n",
       "7  TBH Marion Le Pen would be better. Closet fasc...  neoliberal   \n",
       "8  TBH Marion Le Pen would be better. Closet fasc...  neoliberal   \n",
       "9  it really is a very unusual situation isn't it...      europe   \n",
       "\n",
       "            bucket    annotator     annotation          confidence  \n",
       "0  French politics  annotator03      Non-Moral           Confident  \n",
       "1  French politics  annotator01         Purity           Confident  \n",
       "2  French politics  annotator02  Thin Morality           Confident  \n",
       "3  French politics  annotator03      Non-Moral           Confident  \n",
       "4  French politics  annotator00      Non-Moral  Somewhat Confident  \n",
       "5  French politics  annotator02      Non-Moral           Confident  \n",
       "6  French politics  annotator03      Non-Moral  Somewhat Confident  \n",
       "7  French politics  annotator00  Thin Morality       Not Confident  \n",
       "8  French politics  annotator02       Equality  Somewhat Confident  \n",
       "9  French politics  annotator03      Non-Moral           Confident  "
      ]
     },
     "execution_count": 4,
     "metadata": {},
     "output_type": "execute_result"
    }
   ],
   "source": [
    "# Figure how much of each label is in the dataset\n",
    "# Care Equality Proportionality Loyalty Authority Purity Thin Morality Non-Moral\n",
    "sns.set_theme()\n",
    "dataset['annotation'].value_counts()"
   ]
  }
 ],
 "metadata": {
  "kernelspec": {
   "display_name": "Python 3",
   "language": "python",
   "name": "python3"
  },
  "language_info": {
   "codemirror_mode": {
    "name": "ipython",
    "version": 3
   },
   "file_extension": ".py",
   "mimetype": "text/x-python",
   "name": "python",
   "nbconvert_exporter": "python",
   "pygments_lexer": "ipython3",
   "version": "3.9.1"
  },
  "orig_nbformat": 4,
  "vscode": {
   "interpreter": {
    "hash": "369f2c481f4da34e4445cda3fffd2e751bd1c4d706f27375911949ba6bb62e1c"
   }
  }
 },
 "nbformat": 4,
 "nbformat_minor": 2
}
